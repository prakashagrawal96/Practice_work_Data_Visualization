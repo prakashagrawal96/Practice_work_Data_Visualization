{
 "cells": [
  {
   "cell_type": "markdown",
   "id": "16e77599",
   "metadata": {
    "papermill": {
     "duration": 0.015874,
     "end_time": "2022-04-28T08:28:51.776456",
     "exception": false,
     "start_time": "2022-04-28T08:28:51.760582",
     "status": "completed"
    },
    "tags": []
   },
   "source": [
    "**This notebook is an exercise in the [Data Visualization](https://www.kaggle.com/learn/data-visualization) course.  You can reference the tutorial at [this link](https://www.kaggle.com/alexisbcook/final-project).**\n",
    "\n",
    "---\n"
   ]
  },
  {
   "cell_type": "markdown",
   "id": "ba544ff8",
   "metadata": {
    "papermill": {
     "duration": 0.013624,
     "end_time": "2022-04-28T08:28:51.804214",
     "exception": false,
     "start_time": "2022-04-28T08:28:51.790590",
     "status": "completed"
    },
    "tags": []
   },
   "source": [
    "Now it's time for you to demonstrate your new skills with a project of your own!\n",
    "\n",
    "In this exercise, you will work with a dataset of your choosing.  Once you've selected a dataset, you'll design and create your own plot to tell interesting stories behind the data!\n",
    "\n",
    "## Setup\n",
    "\n",
    "Run the next cell to import and configure the Python libraries that you need to complete the exercise."
   ]
  },
  {
   "cell_type": "code",
   "execution_count": 1,
   "id": "a25fcfd6",
   "metadata": {
    "execution": {
     "iopub.execute_input": "2022-04-28T08:28:51.834120Z",
     "iopub.status.busy": "2022-04-28T08:28:51.833541Z",
     "iopub.status.idle": "2022-04-28T08:28:52.962801Z",
     "shell.execute_reply": "2022-04-28T08:28:52.961685Z"
    },
    "papermill": {
     "duration": 1.146952,
     "end_time": "2022-04-28T08:28:52.965258",
     "exception": false,
     "start_time": "2022-04-28T08:28:51.818306",
     "status": "completed"
    },
    "tags": []
   },
   "outputs": [
    {
     "name": "stdout",
     "output_type": "stream",
     "text": [
      "Setup Complete\n"
     ]
    }
   ],
   "source": [
    "import pandas as pd\n",
    "pd.plotting.register_matplotlib_converters()\n",
    "import matplotlib.pyplot as plt\n",
    "%matplotlib inline\n",
    "import seaborn as sns\n",
    "print(\"Setup Complete\")"
   ]
  },
  {
   "cell_type": "markdown",
   "id": "ee628205",
   "metadata": {
    "papermill": {
     "duration": 0.014913,
     "end_time": "2022-04-28T08:28:52.994952",
     "exception": false,
     "start_time": "2022-04-28T08:28:52.980039",
     "status": "completed"
    },
    "tags": []
   },
   "source": [
    "The questions below will give you feedback on your work. Run the following cell to set up the feedback system."
   ]
  },
  {
   "cell_type": "code",
   "execution_count": 2,
   "id": "468b62e5",
   "metadata": {
    "execution": {
     "iopub.execute_input": "2022-04-28T08:28:53.026975Z",
     "iopub.status.busy": "2022-04-28T08:28:53.026572Z",
     "iopub.status.idle": "2022-04-28T08:28:53.066175Z",
     "shell.execute_reply": "2022-04-28T08:28:53.065387Z"
    },
    "papermill": {
     "duration": 0.059172,
     "end_time": "2022-04-28T08:28:53.069114",
     "exception": false,
     "start_time": "2022-04-28T08:28:53.009942",
     "status": "completed"
    },
    "tags": []
   },
   "outputs": [
    {
     "name": "stdout",
     "output_type": "stream",
     "text": [
      "Setup Complete\n"
     ]
    }
   ],
   "source": [
    "# Set up code checking\n",
    "from learntools.core import binder\n",
    "binder.bind(globals())\n",
    "from learntools.data_viz_to_coder.ex7 import *\n",
    "print(\"Setup Complete\")"
   ]
  },
  {
   "cell_type": "markdown",
   "id": "ed8882fc",
   "metadata": {
    "papermill": {
     "duration": 0.014507,
     "end_time": "2022-04-28T08:28:53.099468",
     "exception": false,
     "start_time": "2022-04-28T08:28:53.084961",
     "status": "completed"
    },
    "tags": []
   },
   "source": [
    "## Step 1: Attach a dataset to the notebook\n",
    "\n",
    "Begin by selecting a CSV dataset from [Kaggle Datasets](https://www.kaggle.com/datasets).  If you're unsure how to do this, please revisit the instructions in the previous tutorial.\n",
    "\n",
    "Once you have selected a dataset, click on the **[+ Add data]** option in the top right corner.  This will generate a pop-up window that you can use to search for your chosen dataset.  \n",
    "\n",
    "![ex6_search_dataset](https://i.imgur.com/cIIWPUS.png)\n",
    "\n",
    "Once you have found the dataset, click on the **[Add]** button to attach it to the notebook.  You can check that it was successful by looking at the **Data** dropdown menu to the right of the notebook -- look for an **input** folder containing a subfolder that matches the name of the dataset.\n",
    "\n",
    "<center>\n",
    "<img src=\"https://i.imgur.com/nMYc1Nu.png\" width=30%><br/>\n",
    "</center>\n",
    "\n",
    "You can click on the carat to the left of the name of the dataset to double-check that it contains a CSV file.  For instance, the image below shows that the example dataset contains two CSV files: (1) **dc-wikia-data.csv**, and (2) **marvel-wikia-data.csv**.\n",
    "\n",
    "<center>\n",
    "<img src=\"https://i.imgur.com/B4sJkVA.png\" width=30%><br/>\n",
    "</center>\n",
    "\n",
    "Once you've uploaded a dataset with a CSV file, run the code cell below **without changes** to receive credit for your work!"
   ]
  },
  {
   "cell_type": "code",
   "execution_count": 3,
   "id": "35dce0da",
   "metadata": {
    "execution": {
     "iopub.execute_input": "2022-04-28T08:28:53.130978Z",
     "iopub.status.busy": "2022-04-28T08:28:53.130205Z",
     "iopub.status.idle": "2022-04-28T08:28:53.144025Z",
     "shell.execute_reply": "2022-04-28T08:28:53.143446Z"
    },
    "papermill": {
     "duration": 0.03229,
     "end_time": "2022-04-28T08:28:53.146511",
     "exception": false,
     "start_time": "2022-04-28T08:28:53.114221",
     "status": "completed"
    },
    "tags": []
   },
   "outputs": [
    {
     "data": {
      "application/javascript": [
       "parent.postMessage({\"jupyterEvent\": \"custom.exercise_interaction\", \"data\": {\"outcomeType\": 1, \"valueTowardsCompletion\": 0.25, \"interactionType\": 1, \"questionType\": 2, \"questionId\": \"1_AttachData\", \"learnToolsVersion\": \"0.3.4\", \"failureMessage\": \"\", \"exceptionClass\": \"\", \"trace\": \"\"}}, \"*\")"
      ],
      "text/plain": [
       "<IPython.core.display.Javascript object>"
      ]
     },
     "metadata": {},
     "output_type": "display_data"
    },
    {
     "data": {
      "text/markdown": [
       "<span style=\"color:#33cc33\">Correct:</span> \n",
       "\n"
      ],
      "text/plain": [
       "Correct: \n"
      ]
     },
     "metadata": {},
     "output_type": "display_data"
    }
   ],
   "source": [
    "# Check for a dataset with a CSV file\n",
    "step_1.check()"
   ]
  },
  {
   "cell_type": "markdown",
   "id": "21664e98",
   "metadata": {
    "papermill": {
     "duration": 0.015885,
     "end_time": "2022-04-28T08:28:53.178630",
     "exception": false,
     "start_time": "2022-04-28T08:28:53.162745",
     "status": "completed"
    },
    "tags": []
   },
   "source": [
    "## Step 2: Specify the filepath\n",
    "\n",
    "Now that the dataset is attached to the notebook, you can find its filepath.  To do this, begin by clicking on the CSV file you'd like to use.  This will open the CSV file in a tab below the notebook.  You can find the filepath towards the top of this new tab.  \n",
    "\n",
    "![ex6_filepath](https://i.imgur.com/fgXQV47.png)\n",
    "\n",
    "After you find the filepath corresponding to your dataset, fill it in as the value for `my_filepath` in the code cell below, and run the code cell to check that you've provided a valid filepath.  For instance, in the case of this example dataset, we would set\n",
    "```\n",
    "my_filepath = \"../input/fivethirtyeight-comic-characters-dataset/dc-wikia-data.csv\"\n",
    "```  \n",
    "Note that **you must enclose the filepath in quotation marks**; otherwise, the code will return an error.\n",
    "\n",
    "Once you've entered the filepath, you can close the tab below the notebook by clicking on the **[X]** at the top of the tab."
   ]
  },
  {
   "cell_type": "code",
   "execution_count": 4,
   "id": "e7215631",
   "metadata": {
    "execution": {
     "iopub.execute_input": "2022-04-28T08:28:53.212731Z",
     "iopub.status.busy": "2022-04-28T08:28:53.212180Z",
     "iopub.status.idle": "2022-04-28T08:28:53.220889Z",
     "shell.execute_reply": "2022-04-28T08:28:53.219789Z"
    },
    "papermill": {
     "duration": 0.027747,
     "end_time": "2022-04-28T08:28:53.222761",
     "exception": false,
     "start_time": "2022-04-28T08:28:53.195014",
     "status": "completed"
    },
    "tags": []
   },
   "outputs": [
    {
     "data": {
      "application/javascript": [
       "parent.postMessage({\"jupyterEvent\": \"custom.exercise_interaction\", \"data\": {\"outcomeType\": 1, \"valueTowardsCompletion\": 0.25, \"interactionType\": 1, \"questionType\": 2, \"questionId\": \"2_Filepath\", \"learnToolsVersion\": \"0.3.4\", \"failureMessage\": \"\", \"exceptionClass\": \"\", \"trace\": \"\"}}, \"*\")"
      ],
      "text/plain": [
       "<IPython.core.display.Javascript object>"
      ]
     },
     "metadata": {},
     "output_type": "display_data"
    },
    {
     "data": {
      "text/markdown": [
       "<span style=\"color:#33cc33\">Correct:</span> \n",
       "\n"
      ],
      "text/plain": [
       "Correct: \n"
      ]
     },
     "metadata": {},
     "output_type": "display_data"
    }
   ],
   "source": [
    "# Fill in the line below: Specify the path of the CSV file to read\n",
    "my_filepath = \"../input/students-adaptability-level-in-online-education/students_adaptability_level_online_education.csv\"\n",
    "\n",
    "# Check for a valid filepath to a CSV file in a dataset\n",
    "step_2.check()"
   ]
  },
  {
   "cell_type": "markdown",
   "id": "0faa6ab7",
   "metadata": {
    "papermill": {
     "duration": 0.016819,
     "end_time": "2022-04-28T08:28:53.256979",
     "exception": false,
     "start_time": "2022-04-28T08:28:53.240160",
     "status": "completed"
    },
    "tags": []
   },
   "source": [
    "## Step 3: Load the data\n",
    "\n",
    "Use the next code cell to load your data file into `my_data`.  Use the filepath that you specified in the previous step."
   ]
  },
  {
   "cell_type": "code",
   "execution_count": 5,
   "id": "460db806",
   "metadata": {
    "execution": {
     "iopub.execute_input": "2022-04-28T08:28:53.293618Z",
     "iopub.status.busy": "2022-04-28T08:28:53.292531Z",
     "iopub.status.idle": "2022-04-28T08:28:53.319390Z",
     "shell.execute_reply": "2022-04-28T08:28:53.318585Z"
    },
    "papermill": {
     "duration": 0.047091,
     "end_time": "2022-04-28T08:28:53.321313",
     "exception": false,
     "start_time": "2022-04-28T08:28:53.274222",
     "status": "completed"
    },
    "tags": []
   },
   "outputs": [
    {
     "data": {
      "application/javascript": [
       "parent.postMessage({\"jupyterEvent\": \"custom.exercise_interaction\", \"data\": {\"outcomeType\": 1, \"valueTowardsCompletion\": 0.25, \"interactionType\": 1, \"questionType\": 2, \"questionId\": \"3_LoadData\", \"learnToolsVersion\": \"0.3.4\", \"failureMessage\": \"\", \"exceptionClass\": \"\", \"trace\": \"\"}}, \"*\")"
      ],
      "text/plain": [
       "<IPython.core.display.Javascript object>"
      ]
     },
     "metadata": {},
     "output_type": "display_data"
    },
    {
     "data": {
      "text/markdown": [
       "<span style=\"color:#33cc33\">Correct:</span> \n",
       "\n"
      ],
      "text/plain": [
       "Correct: \n"
      ]
     },
     "metadata": {},
     "output_type": "display_data"
    }
   ],
   "source": [
    "# Fill in the line below: Read the file into a variable my_data\n",
    "my_data = pd.read_csv(my_filepath)\n",
    "\n",
    "# Check that a dataset has been uploaded into my_data\n",
    "step_3.check()"
   ]
  },
  {
   "cell_type": "markdown",
   "id": "84945920",
   "metadata": {
    "papermill": {
     "duration": 0.018187,
     "end_time": "2022-04-28T08:28:53.358012",
     "exception": false,
     "start_time": "2022-04-28T08:28:53.339825",
     "status": "completed"
    },
    "tags": []
   },
   "source": [
    "**_After the code cell above is marked correct_**, run the code cell below without changes to view the first five rows of the data."
   ]
  },
  {
   "cell_type": "code",
   "execution_count": 6,
   "id": "8e3422b4",
   "metadata": {
    "execution": {
     "iopub.execute_input": "2022-04-28T08:28:53.396919Z",
     "iopub.status.busy": "2022-04-28T08:28:53.396463Z",
     "iopub.status.idle": "2022-04-28T08:28:53.418318Z",
     "shell.execute_reply": "2022-04-28T08:28:53.417527Z"
    },
    "papermill": {
     "duration": 0.044222,
     "end_time": "2022-04-28T08:28:53.420587",
     "exception": false,
     "start_time": "2022-04-28T08:28:53.376365",
     "status": "completed"
    },
    "tags": []
   },
   "outputs": [
    {
     "data": {
      "text/html": [
       "<div>\n",
       "<style scoped>\n",
       "    .dataframe tbody tr th:only-of-type {\n",
       "        vertical-align: middle;\n",
       "    }\n",
       "\n",
       "    .dataframe tbody tr th {\n",
       "        vertical-align: top;\n",
       "    }\n",
       "\n",
       "    .dataframe thead th {\n",
       "        text-align: right;\n",
       "    }\n",
       "</style>\n",
       "<table border=\"1\" class=\"dataframe\">\n",
       "  <thead>\n",
       "    <tr style=\"text-align: right;\">\n",
       "      <th></th>\n",
       "      <th>Gender</th>\n",
       "      <th>Age</th>\n",
       "      <th>Education Level</th>\n",
       "      <th>Institution Type</th>\n",
       "      <th>IT Student</th>\n",
       "      <th>Location</th>\n",
       "      <th>Load-shedding</th>\n",
       "      <th>Financial Condition</th>\n",
       "      <th>Internet Type</th>\n",
       "      <th>Network Type</th>\n",
       "      <th>Class Duration</th>\n",
       "      <th>Self Lms</th>\n",
       "      <th>Device</th>\n",
       "      <th>Adaptivity Level</th>\n",
       "    </tr>\n",
       "  </thead>\n",
       "  <tbody>\n",
       "    <tr>\n",
       "      <th>0</th>\n",
       "      <td>Boy</td>\n",
       "      <td>21-25</td>\n",
       "      <td>University</td>\n",
       "      <td>Non Government</td>\n",
       "      <td>No</td>\n",
       "      <td>Yes</td>\n",
       "      <td>Low</td>\n",
       "      <td>Mid</td>\n",
       "      <td>Wifi</td>\n",
       "      <td>4G</td>\n",
       "      <td>3-6</td>\n",
       "      <td>No</td>\n",
       "      <td>Tab</td>\n",
       "      <td>Moderate</td>\n",
       "    </tr>\n",
       "    <tr>\n",
       "      <th>1</th>\n",
       "      <td>Girl</td>\n",
       "      <td>21-25</td>\n",
       "      <td>University</td>\n",
       "      <td>Non Government</td>\n",
       "      <td>No</td>\n",
       "      <td>Yes</td>\n",
       "      <td>High</td>\n",
       "      <td>Mid</td>\n",
       "      <td>Mobile Data</td>\n",
       "      <td>4G</td>\n",
       "      <td>1-3</td>\n",
       "      <td>Yes</td>\n",
       "      <td>Mobile</td>\n",
       "      <td>Moderate</td>\n",
       "    </tr>\n",
       "    <tr>\n",
       "      <th>2</th>\n",
       "      <td>Girl</td>\n",
       "      <td>16-20</td>\n",
       "      <td>College</td>\n",
       "      <td>Government</td>\n",
       "      <td>No</td>\n",
       "      <td>Yes</td>\n",
       "      <td>Low</td>\n",
       "      <td>Mid</td>\n",
       "      <td>Wifi</td>\n",
       "      <td>4G</td>\n",
       "      <td>1-3</td>\n",
       "      <td>No</td>\n",
       "      <td>Mobile</td>\n",
       "      <td>Moderate</td>\n",
       "    </tr>\n",
       "    <tr>\n",
       "      <th>3</th>\n",
       "      <td>Girl</td>\n",
       "      <td>11-15</td>\n",
       "      <td>School</td>\n",
       "      <td>Non Government</td>\n",
       "      <td>No</td>\n",
       "      <td>Yes</td>\n",
       "      <td>Low</td>\n",
       "      <td>Mid</td>\n",
       "      <td>Mobile Data</td>\n",
       "      <td>4G</td>\n",
       "      <td>1-3</td>\n",
       "      <td>No</td>\n",
       "      <td>Mobile</td>\n",
       "      <td>Moderate</td>\n",
       "    </tr>\n",
       "    <tr>\n",
       "      <th>4</th>\n",
       "      <td>Girl</td>\n",
       "      <td>16-20</td>\n",
       "      <td>School</td>\n",
       "      <td>Non Government</td>\n",
       "      <td>No</td>\n",
       "      <td>Yes</td>\n",
       "      <td>Low</td>\n",
       "      <td>Poor</td>\n",
       "      <td>Mobile Data</td>\n",
       "      <td>3G</td>\n",
       "      <td>0</td>\n",
       "      <td>No</td>\n",
       "      <td>Mobile</td>\n",
       "      <td>Low</td>\n",
       "    </tr>\n",
       "  </tbody>\n",
       "</table>\n",
       "</div>"
      ],
      "text/plain": [
       "  Gender    Age Education Level Institution Type IT Student Location  \\\n",
       "0    Boy  21-25      University   Non Government         No      Yes   \n",
       "1   Girl  21-25      University   Non Government         No      Yes   \n",
       "2   Girl  16-20         College       Government         No      Yes   \n",
       "3   Girl  11-15          School   Non Government         No      Yes   \n",
       "4   Girl  16-20          School   Non Government         No      Yes   \n",
       "\n",
       "  Load-shedding Financial Condition Internet Type Network Type Class Duration  \\\n",
       "0           Low                 Mid          Wifi           4G            3-6   \n",
       "1          High                 Mid   Mobile Data           4G            1-3   \n",
       "2           Low                 Mid          Wifi           4G            1-3   \n",
       "3           Low                 Mid   Mobile Data           4G            1-3   \n",
       "4           Low                Poor   Mobile Data           3G              0   \n",
       "\n",
       "  Self Lms  Device Adaptivity Level  \n",
       "0       No     Tab         Moderate  \n",
       "1      Yes  Mobile         Moderate  \n",
       "2       No  Mobile         Moderate  \n",
       "3       No  Mobile         Moderate  \n",
       "4       No  Mobile              Low  "
      ]
     },
     "execution_count": 6,
     "metadata": {},
     "output_type": "execute_result"
    }
   ],
   "source": [
    "# Print the first five rows of the data\n",
    "my_data.head()"
   ]
  },
  {
   "cell_type": "markdown",
   "id": "fb3feae0",
   "metadata": {
    "papermill": {
     "duration": 0.018616,
     "end_time": "2022-04-28T08:28:53.458114",
     "exception": false,
     "start_time": "2022-04-28T08:28:53.439498",
     "status": "completed"
    },
    "tags": []
   },
   "source": [
    "## Step 4: Visualize the data\n",
    "\n",
    "Use the next code cell to create a figure that tells a story behind your dataset.  You can use any chart type (_line chart, bar chart, heatmap, etc_) of your choosing!"
   ]
  },
  {
   "cell_type": "code",
   "execution_count": 7,
   "id": "4c03938d",
   "metadata": {
    "execution": {
     "iopub.execute_input": "2022-04-28T08:28:53.499310Z",
     "iopub.status.busy": "2022-04-28T08:28:53.498840Z",
     "iopub.status.idle": "2022-04-28T08:28:53.777264Z",
     "shell.execute_reply": "2022-04-28T08:28:53.776364Z"
    },
    "papermill": {
     "duration": 0.303075,
     "end_time": "2022-04-28T08:28:53.780132",
     "exception": false,
     "start_time": "2022-04-28T08:28:53.477057",
     "status": "completed"
    },
    "tags": []
   },
   "outputs": [
    {
     "data": {
      "application/javascript": [
       "parent.postMessage({\"jupyterEvent\": \"custom.exercise_interaction\", \"data\": {\"outcomeType\": 1, \"valueTowardsCompletion\": 0.25, \"interactionType\": 1, \"questionType\": 2, \"questionId\": \"4_CreatePlot\", \"learnToolsVersion\": \"0.3.4\", \"failureMessage\": \"\", \"exceptionClass\": \"\", \"trace\": \"\"}}, \"*\")"
      ],
      "text/plain": [
       "<IPython.core.display.Javascript object>"
      ]
     },
     "metadata": {},
     "output_type": "display_data"
    },
    {
     "data": {
      "text/markdown": [
       "<span style=\"color:#33cc33\">Correct:</span> \n",
       "\n"
      ],
      "text/plain": [
       "Correct: \n"
      ]
     },
     "metadata": {},
     "output_type": "display_data"
    },
    {
     "data": {
      "image/png": "[encoded data removed]",
      "text/plain": [
       "<Figure size 432x288 with 1 Axes>"
      ]
     },
     "metadata": {
      "needs_background": "light"
     },
     "output_type": "display_data"
    }
   ],
   "source": [
    "# Create a plot\n",
    "sns.barplot(x=my_data['Class Duration'], y=my_data.index)\n",
    "# Check that a figure appears below\n",
    "step_4.check()"
   ]
  },
  {
   "cell_type": "markdown",
   "id": "aee419f8",
   "metadata": {
    "papermill": {
     "duration": 0.020679,
     "end_time": "2022-04-28T08:28:53.830388",
     "exception": false,
     "start_time": "2022-04-28T08:28:53.809709",
     "status": "completed"
    },
    "tags": []
   },
   "source": [
    "## Keep going\n",
    "\n",
    "Learn how to use your skills after completing the micro-course to create data visualizations in a **[final tutorial](https://www.kaggle.com/alexisbcook/creating-your-own-notebooks)**."
   ]
  },
  {
   "cell_type": "markdown",
   "id": "1460fd83",
   "metadata": {
    "papermill": {
     "duration": 0.020647,
     "end_time": "2022-04-28T08:28:53.871964",
     "exception": false,
     "start_time": "2022-04-28T08:28:53.851317",
     "status": "completed"
    },
    "tags": []
   },
   "source": [
    "---\n",
    "\n",
    "\n",
    "\n",
    "\n",
    "*Have questions or comments? Visit the [course discussion forum](https://www.kaggle.com/learn/data-visualization/discussion) to chat with other learners.*"
   ]
  }
 ],
 "metadata": {
  "kernelspec": {
   "display_name": "Python 3",
   "language": "python",
   "name": "python3"
  },
  "language_info": {
   "codemirror_mode": {
    "name": "ipython",
    "version": 3
   },
   "file_extension": ".py",
   "mimetype": "text/x-python",
   "name": "python",
   "nbconvert_exporter": "python",
   "pygments_lexer": "ipython3",
   "version": "3.7.12"
  },
  "papermill": {
   "default_parameters": {},
   "duration": 13.145249,
   "end_time": "2022-04-28T08:28:54.614499",
   "environment_variables": {},
   "exception": null,
   "input_path": "__notebook__.ipynb",
   "output_path": "__notebook__.ipynb",
   "parameters": {},
   "start_time": "2022-04-28T08:28:41.469250",
   "version": "2.3.4"
  }
 },
 "nbformat": 4,
 "nbformat_minor": 5
}
