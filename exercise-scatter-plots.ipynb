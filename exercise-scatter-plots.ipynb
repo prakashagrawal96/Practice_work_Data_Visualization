{
 "cells": [
  {
   "cell_type": "markdown",
   "id": "97e6dcda",
   "metadata": {
    "papermill": {
     "duration": 0.026406,
     "end_time": "2022-04-28T07:14:11.176145",
     "exception": false,
     "start_time": "2022-04-28T07:14:11.149739",
     "status": "completed"
    },
    "tags": []
   },
   "source": [
    "**This notebook is an exercise in the [Data Visualization](https://www.kaggle.com/learn/data-visualization) course.  You can reference the tutorial at [this link](https://www.kaggle.com/alexisbcook/scatter-plots).**\n",
    "\n",
    "---\n"
   ]
  },
  {
   "cell_type": "markdown",
   "id": "6c18fd2e",
   "metadata": {
    "papermill": {
     "duration": 0.023966,
     "end_time": "2022-04-28T07:14:11.224454",
     "exception": false,
     "start_time": "2022-04-28T07:14:11.200488",
     "status": "completed"
    },
    "tags": []
   },
   "source": [
    "In this exercise, you will use your new knowledge to propose a solution to a real-world scenario.  To succeed, you will need to import data into Python, answer questions using the data, and generate **scatter plots** to understand patterns in the data.\n",
    "\n",
    "## Scenario\n",
    "\n",
    "You work for a major candy producer, and your goal is to write a report that your company can use to guide the design of its next product.  Soon after starting your research, you stumble across this [very interesting dataset](https://fivethirtyeight.com/features/the-ultimate-halloween-candy-power-ranking/) containing results from a fun survey to crowdsource favorite candies.\n",
    "\n",
    "## Setup\n",
    "\n",
    "Run the next cell to import and configure the Python libraries that you need to complete the exercise."
   ]
  },
  {
   "cell_type": "code",
   "execution_count": 1,
   "id": "46851c2f",
   "metadata": {
    "execution": {
     "iopub.execute_input": "2022-04-28T07:14:11.276120Z",
     "iopub.status.busy": "2022-04-28T07:14:11.275342Z",
     "iopub.status.idle": "2022-04-28T07:14:12.287278Z",
     "shell.execute_reply": "2022-04-28T07:14:12.286429Z"
    },
    "papermill": {
     "duration": 1.040201,
     "end_time": "2022-04-28T07:14:12.289315",
     "exception": false,
     "start_time": "2022-04-28T07:14:11.249114",
     "status": "completed"
    },
    "tags": []
   },
   "outputs": [
    {
     "name": "stdout",
     "output_type": "stream",
     "text": [
      "Setup Complete\n"
     ]
    }
   ],
   "source": [
    "import pandas as pd\n",
    "pd.plotting.register_matplotlib_converters()\n",
    "import matplotlib.pyplot as plt\n",
    "%matplotlib inline\n",
    "import seaborn as sns\n",
    "print(\"Setup Complete\")"
   ]
  },
  {
   "cell_type": "markdown",
   "id": "bd7c190d",
   "metadata": {
    "papermill": {
     "duration": 0.024968,
     "end_time": "2022-04-28T07:14:12.340014",
     "exception": false,
     "start_time": "2022-04-28T07:14:12.315046",
     "status": "completed"
    },
    "tags": []
   },
   "source": [
    "The questions below will give you feedback on your work. Run the following cell to set up our feedback system."
   ]
  },
  {
   "cell_type": "code",
   "execution_count": 2,
   "id": "8957032b",
   "metadata": {
    "execution": {
     "iopub.execute_input": "2022-04-28T07:14:12.394772Z",
     "iopub.status.busy": "2022-04-28T07:14:12.394221Z",
     "iopub.status.idle": "2022-04-28T07:14:12.455228Z",
     "shell.execute_reply": "2022-04-28T07:14:12.454680Z"
    },
    "papermill": {
     "duration": 0.090879,
     "end_time": "2022-04-28T07:14:12.457080",
     "exception": false,
     "start_time": "2022-04-28T07:14:12.366201",
     "status": "completed"
    },
    "tags": []
   },
   "outputs": [
    {
     "name": "stdout",
     "output_type": "stream",
     "text": [
      "Setup Complete\n"
     ]
    }
   ],
   "source": [
    "# Set up code checking\n",
    "import os\n",
    "if not os.path.exists(\"../input/candy.csv\"):\n",
    "    os.symlink(\"../input/data-for-datavis/candy.csv\", \"../input/candy.csv\") \n",
    "from learntools.core import binder\n",
    "binder.bind(globals())\n",
    "from learntools.data_viz_to_coder.ex4 import *\n",
    "print(\"Setup Complete\")"
   ]
  },
  {
   "cell_type": "markdown",
   "id": "22ae380e",
   "metadata": {
    "papermill": {
     "duration": 0.024803,
     "end_time": "2022-04-28T07:14:12.507660",
     "exception": false,
     "start_time": "2022-04-28T07:14:12.482857",
     "status": "completed"
    },
    "tags": []
   },
   "source": [
    "## Step 1: Load the Data\n",
    "\n",
    "Read the candy data file into `candy_data`.  Use the `\"id\"` column to label the rows."
   ]
  },
  {
   "cell_type": "code",
   "execution_count": 3,
   "id": "d52bad91",
   "metadata": {
    "execution": {
     "iopub.execute_input": "2022-04-28T07:14:12.559732Z",
     "iopub.status.busy": "2022-04-28T07:14:12.559212Z",
     "iopub.status.idle": "2022-04-28T07:14:12.572397Z",
     "shell.execute_reply": "2022-04-28T07:14:12.571548Z"
    },
    "papermill": {
     "duration": 0.042148,
     "end_time": "2022-04-28T07:14:12.574965",
     "exception": false,
     "start_time": "2022-04-28T07:14:12.532817",
     "status": "completed"
    },
    "tags": []
   },
   "outputs": [
    {
     "data": {
      "application/javascript": [
       "parent.postMessage({\"jupyterEvent\": \"custom.exercise_interaction\", \"data\": {\"outcomeType\": 1, \"valueTowardsCompletion\": 0.3333333333333333, \"interactionType\": 1, \"questionType\": 1, \"questionId\": \"1_LoadData\", \"learnToolsVersion\": \"0.3.4\", \"failureMessage\": \"\", \"exceptionClass\": \"\", \"trace\": \"\"}}, \"*\")"
      ],
      "text/plain": [
       "<IPython.core.display.Javascript object>"
      ]
     },
     "metadata": {},
     "output_type": "display_data"
    },
    {
     "data": {
      "text/markdown": [
       "<span style=\"color:#33cc33\">Correct</span>"
      ],
      "text/plain": [
       "Correct"
      ]
     },
     "metadata": {},
     "output_type": "display_data"
    }
   ],
   "source": [
    "# Path of the file to read\n",
    "candy_filepath = \"../input/candy.csv\"\n",
    "\n",
    "# Fill in the line below to read the file into a variable candy_data\n",
    "candy_data = pd.read_csv(candy_filepath, index_col=\"id\")\n",
    "\n",
    "# Run the line below with no changes to check that you've loaded the data correctly\n",
    "step_1.check()"
   ]
  },
  {
   "cell_type": "code",
   "execution_count": 4,
   "id": "60bcfa17",
   "metadata": {
    "execution": {
     "iopub.execute_input": "2022-04-28T07:14:12.629177Z",
     "iopub.status.busy": "2022-04-28T07:14:12.628595Z",
     "iopub.status.idle": "2022-04-28T07:14:12.632252Z",
     "shell.execute_reply": "2022-04-28T07:14:12.631593Z"
    },
    "papermill": {
     "duration": 0.032486,
     "end_time": "2022-04-28T07:14:12.634019",
     "exception": false,
     "start_time": "2022-04-28T07:14:12.601533",
     "status": "completed"
    },
    "tags": []
   },
   "outputs": [],
   "source": [
    "# Lines below will give you a hint or solution code\n",
    "#step_1.hint()\n",
    "#step_1.solution()"
   ]
  },
  {
   "cell_type": "markdown",
   "id": "1d2171c5",
   "metadata": {
    "papermill": {
     "duration": 0.025999,
     "end_time": "2022-04-28T07:14:12.686691",
     "exception": false,
     "start_time": "2022-04-28T07:14:12.660692",
     "status": "completed"
    },
    "tags": []
   },
   "source": [
    "## Step 2: Review the data\n",
    "\n",
    "Use a Python command to print the first five rows of the data."
   ]
  },
  {
   "cell_type": "code",
   "execution_count": 5,
   "id": "32d7ae5b",
   "metadata": {
    "execution": {
     "iopub.execute_input": "2022-04-28T07:14:12.740313Z",
     "iopub.status.busy": "2022-04-28T07:14:12.739906Z",
     "iopub.status.idle": "2022-04-28T07:14:12.759736Z",
     "shell.execute_reply": "2022-04-28T07:14:12.758938Z"
    },
    "papermill": {
     "duration": 0.049079,
     "end_time": "2022-04-28T07:14:12.761656",
     "exception": false,
     "start_time": "2022-04-28T07:14:12.712577",
     "status": "completed"
    },
    "tags": []
   },
   "outputs": [
    {
     "data": {
      "text/html": [
       "<div>\n",
       "<style scoped>\n",
       "    .dataframe tbody tr th:only-of-type {\n",
       "        vertical-align: middle;\n",
       "    }\n",
       "\n",
       "    .dataframe tbody tr th {\n",
       "        vertical-align: top;\n",
       "    }\n",
       "\n",
       "    .dataframe thead th {\n",
       "        text-align: right;\n",
       "    }\n",
       "</style>\n",
       "<table border=\"1\" class=\"dataframe\">\n",
       "  <thead>\n",
       "    <tr style=\"text-align: right;\">\n",
       "      <th></th>\n",
       "      <th>competitorname</th>\n",
       "      <th>chocolate</th>\n",
       "      <th>fruity</th>\n",
       "      <th>caramel</th>\n",
       "      <th>peanutyalmondy</th>\n",
       "      <th>nougat</th>\n",
       "      <th>crispedricewafer</th>\n",
       "      <th>hard</th>\n",
       "      <th>bar</th>\n",
       "      <th>pluribus</th>\n",
       "      <th>sugarpercent</th>\n",
       "      <th>pricepercent</th>\n",
       "      <th>winpercent</th>\n",
       "    </tr>\n",
       "    <tr>\n",
       "      <th>id</th>\n",
       "      <th></th>\n",
       "      <th></th>\n",
       "      <th></th>\n",
       "      <th></th>\n",
       "      <th></th>\n",
       "      <th></th>\n",
       "      <th></th>\n",
       "      <th></th>\n",
       "      <th></th>\n",
       "      <th></th>\n",
       "      <th></th>\n",
       "      <th></th>\n",
       "      <th></th>\n",
       "    </tr>\n",
       "  </thead>\n",
       "  <tbody>\n",
       "    <tr>\n",
       "      <th>0</th>\n",
       "      <td>100 Grand</td>\n",
       "      <td>Yes</td>\n",
       "      <td>No</td>\n",
       "      <td>Yes</td>\n",
       "      <td>No</td>\n",
       "      <td>No</td>\n",
       "      <td>Yes</td>\n",
       "      <td>No</td>\n",
       "      <td>Yes</td>\n",
       "      <td>No</td>\n",
       "      <td>0.732</td>\n",
       "      <td>0.860</td>\n",
       "      <td>66.971725</td>\n",
       "    </tr>\n",
       "    <tr>\n",
       "      <th>1</th>\n",
       "      <td>3 Musketeers</td>\n",
       "      <td>Yes</td>\n",
       "      <td>No</td>\n",
       "      <td>No</td>\n",
       "      <td>No</td>\n",
       "      <td>Yes</td>\n",
       "      <td>No</td>\n",
       "      <td>No</td>\n",
       "      <td>Yes</td>\n",
       "      <td>No</td>\n",
       "      <td>0.604</td>\n",
       "      <td>0.511</td>\n",
       "      <td>67.602936</td>\n",
       "    </tr>\n",
       "    <tr>\n",
       "      <th>2</th>\n",
       "      <td>Air Heads</td>\n",
       "      <td>No</td>\n",
       "      <td>Yes</td>\n",
       "      <td>No</td>\n",
       "      <td>No</td>\n",
       "      <td>No</td>\n",
       "      <td>No</td>\n",
       "      <td>No</td>\n",
       "      <td>No</td>\n",
       "      <td>No</td>\n",
       "      <td>0.906</td>\n",
       "      <td>0.511</td>\n",
       "      <td>52.341465</td>\n",
       "    </tr>\n",
       "    <tr>\n",
       "      <th>3</th>\n",
       "      <td>Almond Joy</td>\n",
       "      <td>Yes</td>\n",
       "      <td>No</td>\n",
       "      <td>No</td>\n",
       "      <td>Yes</td>\n",
       "      <td>No</td>\n",
       "      <td>No</td>\n",
       "      <td>No</td>\n",
       "      <td>Yes</td>\n",
       "      <td>No</td>\n",
       "      <td>0.465</td>\n",
       "      <td>0.767</td>\n",
       "      <td>50.347546</td>\n",
       "    </tr>\n",
       "    <tr>\n",
       "      <th>4</th>\n",
       "      <td>Baby Ruth</td>\n",
       "      <td>Yes</td>\n",
       "      <td>No</td>\n",
       "      <td>Yes</td>\n",
       "      <td>Yes</td>\n",
       "      <td>Yes</td>\n",
       "      <td>No</td>\n",
       "      <td>No</td>\n",
       "      <td>Yes</td>\n",
       "      <td>No</td>\n",
       "      <td>0.604</td>\n",
       "      <td>0.767</td>\n",
       "      <td>56.914547</td>\n",
       "    </tr>\n",
       "  </tbody>\n",
       "</table>\n",
       "</div>"
      ],
      "text/plain": [
       "   competitorname chocolate fruity caramel peanutyalmondy nougat  \\\n",
       "id                                                                 \n",
       "0       100 Grand       Yes     No     Yes             No     No   \n",
       "1    3 Musketeers       Yes     No      No             No    Yes   \n",
       "2       Air Heads        No    Yes      No             No     No   \n",
       "3      Almond Joy       Yes     No      No            Yes     No   \n",
       "4       Baby Ruth       Yes     No     Yes            Yes    Yes   \n",
       "\n",
       "   crispedricewafer hard  bar pluribus  sugarpercent  pricepercent  winpercent  \n",
       "id                                                                              \n",
       "0               Yes   No  Yes       No         0.732         0.860   66.971725  \n",
       "1                No   No  Yes       No         0.604         0.511   67.602936  \n",
       "2                No   No   No       No         0.906         0.511   52.341465  \n",
       "3                No   No  Yes       No         0.465         0.767   50.347546  \n",
       "4                No   No  Yes       No         0.604         0.767   56.914547  "
      ]
     },
     "execution_count": 5,
     "metadata": {},
     "output_type": "execute_result"
    }
   ],
   "source": [
    "# Print the first five rows of the data\n",
    "candy_data.head()"
   ]
  },
  {
   "cell_type": "markdown",
   "id": "9320958d",
   "metadata": {
    "papermill": {
     "duration": 0.027812,
     "end_time": "2022-04-28T07:14:12.816274",
     "exception": false,
     "start_time": "2022-04-28T07:14:12.788462",
     "status": "completed"
    },
    "tags": []
   },
   "source": [
    "The dataset contains 83 rows, where each corresponds to a different candy bar.  There are 13 columns:\n",
    "- `'competitorname'` contains the name of the candy bar. \n",
    "- the next **9** columns (from `'chocolate'` to `'pluribus'`) describe the candy.  For instance, rows with chocolate candies have `\"Yes\"` in the `'chocolate'` column (and candies without chocolate have `\"No\"` in the same column).\n",
    "- `'sugarpercent'` provides some indication of the amount of sugar, where higher values signify higher sugar content.\n",
    "- `'pricepercent'` shows the price per unit, relative to the other candies in the dataset.\n",
    "- `'winpercent'` is calculated from the survey results; higher values indicate that the candy was more popular with survey respondents.\n",
    "\n",
    "Use the first five rows of the data to answer the questions below."
   ]
  },
  {
   "cell_type": "code",
   "execution_count": 6,
   "id": "881f3305",
   "metadata": {
    "execution": {
     "iopub.execute_input": "2022-04-28T07:14:12.872329Z",
     "iopub.status.busy": "2022-04-28T07:14:12.871890Z",
     "iopub.status.idle": "2022-04-28T07:14:12.879148Z",
     "shell.execute_reply": "2022-04-28T07:14:12.878550Z"
    },
    "papermill": {
     "duration": 0.036646,
     "end_time": "2022-04-28T07:14:12.880804",
     "exception": false,
     "start_time": "2022-04-28T07:14:12.844158",
     "status": "completed"
    },
    "tags": []
   },
   "outputs": [
    {
     "data": {
      "application/javascript": [
       "parent.postMessage({\"jupyterEvent\": \"custom.exercise_interaction\", \"data\": {\"outcomeType\": 1, \"valueTowardsCompletion\": 0.3333333333333333, \"interactionType\": 1, \"questionType\": 1, \"questionId\": \"2_ReviewData\", \"learnToolsVersion\": \"0.3.4\", \"failureMessage\": \"\", \"exceptionClass\": \"\", \"trace\": \"\"}}, \"*\")"
      ],
      "text/plain": [
       "<IPython.core.display.Javascript object>"
      ]
     },
     "metadata": {},
     "output_type": "display_data"
    },
    {
     "data": {
      "text/markdown": [
       "<span style=\"color:#33cc33\">Correct</span>"
      ],
      "text/plain": [
       "Correct"
      ]
     },
     "metadata": {},
     "output_type": "display_data"
    }
   ],
   "source": [
    "# Fill in the line below: Which candy was more popular with survey respondents:\n",
    "# '3 Musketeers' or 'Almond Joy'?  (Please enclose your answer in single quotes.)\n",
    "more_popular = '3 Musketeers'\n",
    "\n",
    "# Fill in the line below: Which candy has higher sugar content: 'Air Heads'\n",
    "# or 'Baby Ruth'? (Please enclose your answer in single quotes.)\n",
    "more_sugar = 'Air Heads'\n",
    "\n",
    "# Check your answers\n",
    "step_2.check()"
   ]
  },
  {
   "cell_type": "code",
   "execution_count": 7,
   "id": "27bb83b6",
   "metadata": {
    "execution": {
     "iopub.execute_input": "2022-04-28T07:14:12.937644Z",
     "iopub.status.busy": "2022-04-28T07:14:12.937383Z",
     "iopub.status.idle": "2022-04-28T07:14:12.940870Z",
     "shell.execute_reply": "2022-04-28T07:14:12.940028Z"
    },
    "papermill": {
     "duration": 0.034181,
     "end_time": "2022-04-28T07:14:12.942599",
     "exception": false,
     "start_time": "2022-04-28T07:14:12.908418",
     "status": "completed"
    },
    "tags": []
   },
   "outputs": [],
   "source": [
    "# Lines below will give you a hint or solution code\n",
    "#step_2.hint()\n",
    "#step_2.solution()"
   ]
  },
  {
   "cell_type": "markdown",
   "id": "1d996662",
   "metadata": {
    "papermill": {
     "duration": 0.027411,
     "end_time": "2022-04-28T07:14:12.997655",
     "exception": false,
     "start_time": "2022-04-28T07:14:12.970244",
     "status": "completed"
    },
    "tags": []
   },
   "source": [
    "## Step 3: The role of sugar\n",
    "\n",
    "Do people tend to prefer candies with higher sugar content?  \n",
    "\n",
    "#### Part A\n",
    "\n",
    "Create a scatter plot that shows the relationship between `'sugarpercent'` (on the horizontal x-axis) and `'winpercent'` (on the vertical y-axis).  _Don't add a regression line just yet -- you'll do that in the next step!_"
   ]
  },
  {
   "cell_type": "code",
   "execution_count": 8,
   "id": "d4cfcbbc",
   "metadata": {
    "execution": {
     "iopub.execute_input": "2022-04-28T07:14:13.055461Z",
     "iopub.status.busy": "2022-04-28T07:14:13.054974Z",
     "iopub.status.idle": "2022-04-28T07:14:13.291696Z",
     "shell.execute_reply": "2022-04-28T07:14:13.290895Z"
    },
    "papermill": {
     "duration": 0.267947,
     "end_time": "2022-04-28T07:14:13.293610",
     "exception": false,
     "start_time": "2022-04-28T07:14:13.025663",
     "status": "completed"
    },
    "tags": []
   },
   "outputs": [
    {
     "data": {
      "application/javascript": [
       "parent.postMessage({\"jupyterEvent\": \"custom.exercise_interaction\", \"data\": {\"outcomeType\": 1, \"valueTowardsCompletion\": 0.3333333333333333, \"interactionType\": 1, \"questionType\": 2, \"questionId\": \"3.1_PlotBlueScatter\", \"learnToolsVersion\": \"0.3.4\", \"failureMessage\": \"\", \"exceptionClass\": \"\", \"trace\": \"\"}}, \"*\")"
      ],
      "text/plain": [
       "<IPython.core.display.Javascript object>"
      ]
     },
     "metadata": {},
     "output_type": "display_data"
    },
    {
     "data": {
      "text/markdown": [
       "<span style=\"color:#33cc33\">Correct</span>"
      ],
      "text/plain": [
       "Correct"
      ]
     },
     "metadata": {},
     "output_type": "display_data"
    },
    {
     "data": {
      "image/png": "[encoded data removed]",
      "text/plain": [
       "<Figure size 432x288 with 1 Axes>"
      ]
     },
     "metadata": {
      "needs_background": "light"
     },
     "output_type": "display_data"
    }
   ],
   "source": [
    "# Scatter plot showing the relationship between 'sugarpercent' and 'winpercent'\n",
    "sns.scatterplot(x=candy_data['sugarpercent'], y=candy_data['winpercent'])\n",
    "\n",
    "# Check your answer\n",
    "step_3.a.check()"
   ]
  },
  {
   "cell_type": "code",
   "execution_count": 9,
   "id": "cc605c41",
   "metadata": {
    "execution": {
     "iopub.execute_input": "2022-04-28T07:14:13.354288Z",
     "iopub.status.busy": "2022-04-28T07:14:13.353726Z",
     "iopub.status.idle": "2022-04-28T07:14:13.357515Z",
     "shell.execute_reply": "2022-04-28T07:14:13.356807Z"
    },
    "papermill": {
     "duration": 0.036347,
     "end_time": "2022-04-28T07:14:13.359327",
     "exception": false,
     "start_time": "2022-04-28T07:14:13.322980",
     "status": "completed"
    },
    "tags": []
   },
   "outputs": [],
   "source": [
    "# Lines below will give you a hint or solution code\n",
    "#step_3.a.hint()\n",
    "#step_3.a.solution_plot()"
   ]
  },
  {
   "cell_type": "markdown",
   "id": "1f7d7fa0",
   "metadata": {
    "papermill": {
     "duration": 0.028905,
     "end_time": "2022-04-28T07:14:13.417888",
     "exception": false,
     "start_time": "2022-04-28T07:14:13.388983",
     "status": "completed"
    },
    "tags": []
   },
   "source": [
    "#### Part B\n",
    "\n",
    "Does the scatter plot show a **strong** correlation between the two variables?  If so, are candies with more sugar relatively more or less popular with the survey respondents?"
   ]
  },
  {
   "cell_type": "code",
   "execution_count": 10,
   "id": "65303bd3",
   "metadata": {
    "execution": {
     "iopub.execute_input": "2022-04-28T07:14:13.478330Z",
     "iopub.status.busy": "2022-04-28T07:14:13.477513Z",
     "iopub.status.idle": "2022-04-28T07:14:13.480945Z",
     "shell.execute_reply": "2022-04-28T07:14:13.480426Z"
    },
    "papermill": {
     "duration": 0.035541,
     "end_time": "2022-04-28T07:14:13.482457",
     "exception": false,
     "start_time": "2022-04-28T07:14:13.446916",
     "status": "completed"
    },
    "tags": []
   },
   "outputs": [],
   "source": [
    "#step_3.b.hint()"
   ]
  },
  {
   "cell_type": "code",
   "execution_count": 11,
   "id": "4f813047",
   "metadata": {
    "execution": {
     "iopub.execute_input": "2022-04-28T07:14:13.542656Z",
     "iopub.status.busy": "2022-04-28T07:14:13.542336Z",
     "iopub.status.idle": "2022-04-28T07:14:13.549360Z",
     "shell.execute_reply": "2022-04-28T07:14:13.548466Z"
    },
    "papermill": {
     "duration": 0.039698,
     "end_time": "2022-04-28T07:14:13.551285",
     "exception": false,
     "start_time": "2022-04-28T07:14:13.511587",
     "status": "completed"
    },
    "tags": []
   },
   "outputs": [
    {
     "data": {
      "application/javascript": [
       "parent.postMessage({\"jupyterEvent\": \"custom.exercise_interaction\", \"data\": {\"interactionType\": 3, \"questionType\": 4, \"questionId\": \"3.2_ThinkBlueScatter\", \"learnToolsVersion\": \"0.3.4\", \"valueTowardsCompletion\": 0.0, \"failureMessage\": \"\", \"exceptionClass\": \"\", \"trace\": \"\", \"outcomeType\": 4}}, \"*\")"
      ],
      "text/plain": [
       "<IPython.core.display.Javascript object>"
      ]
     },
     "metadata": {},
     "output_type": "display_data"
    },
    {
     "data": {
      "text/markdown": [
       "<span style=\"color:#33cc99\">Solution:</span> The scatter plot does not show a strong correlation between the two variables. Since there is no clear relationship between the two variables, this tells us that sugar content does not play a strong role in candy popularity."
      ],
      "text/plain": [
       "Solution: The scatter plot does not show a strong correlation between the two variables. Since there is no clear relationship between the two variables, this tells us that sugar content does not play a strong role in candy popularity."
      ]
     },
     "metadata": {},
     "output_type": "display_data"
    }
   ],
   "source": [
    "# Check your answer (Run this code cell to receive credit!)\n",
    "step_3.b.solution()"
   ]
  },
  {
   "cell_type": "markdown",
   "id": "cd7a4358",
   "metadata": {
    "papermill": {
     "duration": 0.03001,
     "end_time": "2022-04-28T07:14:13.613060",
     "exception": false,
     "start_time": "2022-04-28T07:14:13.583050",
     "status": "completed"
    },
    "tags": []
   },
   "source": [
    "## Step 4: Take a closer look\n",
    "\n",
    "#### Part A\n",
    "\n",
    "Create the same scatter plot you created in **Step 3**, but now with a regression line!"
   ]
  },
  {
   "cell_type": "code",
   "execution_count": 12,
   "id": "305d7421",
   "metadata": {
    "execution": {
     "iopub.execute_input": "2022-04-28T07:14:13.675371Z",
     "iopub.status.busy": "2022-04-28T07:14:13.675081Z",
     "iopub.status.idle": "2022-04-28T07:14:13.964303Z",
     "shell.execute_reply": "2022-04-28T07:14:13.963494Z"
    },
    "papermill": {
     "duration": 0.322808,
     "end_time": "2022-04-28T07:14:13.966325",
     "exception": false,
     "start_time": "2022-04-28T07:14:13.643517",
     "status": "completed"
    },
    "tags": []
   },
   "outputs": [
    {
     "data": {
      "application/javascript": [
       "parent.postMessage({\"jupyterEvent\": \"custom.exercise_interaction\", \"data\": {\"outcomeType\": 1, \"valueTowardsCompletion\": 0.3333333333333333, \"interactionType\": 1, \"questionType\": 2, \"questionId\": \"4.1_PlotBlueReg\", \"learnToolsVersion\": \"0.3.4\", \"failureMessage\": \"\", \"exceptionClass\": \"\", \"trace\": \"\"}}, \"*\")"
      ],
      "text/plain": [
       "<IPython.core.display.Javascript object>"
      ]
     },
     "metadata": {},
     "output_type": "display_data"
    },
    {
     "data": {
      "text/markdown": [
       "<span style=\"color:#33cc33\">Correct</span>"
      ],
      "text/plain": [
       "Correct"
      ]
     },
     "metadata": {},
     "output_type": "display_data"
    },
    {
     "data": {
      "image/png": "[encoded data removed]",
      "text/plain": [
       "<Figure size 432x288 with 1 Axes>"
      ]
     },
     "metadata": {
      "needs_background": "light"
     },
     "output_type": "display_data"
    }
   ],
   "source": [
    "# Scatter plot w/ regression line showing the relationship between 'sugarpercent' and 'winpercent'\n",
    "sns.regplot(x=candy_data['sugarpercent'], y=candy_data['winpercent']) # Your code here\n",
    "\n",
    "# Check your answer\n",
    "step_4.a.check()"
   ]
  },
  {
   "cell_type": "code",
   "execution_count": 13,
   "id": "0ae5d8c3",
   "metadata": {
    "execution": {
     "iopub.execute_input": "2022-04-28T07:14:14.033175Z",
     "iopub.status.busy": "2022-04-28T07:14:14.032760Z",
     "iopub.status.idle": "2022-04-28T07:14:14.036106Z",
     "shell.execute_reply": "2022-04-28T07:14:14.035517Z"
    },
    "papermill": {
     "duration": 0.038877,
     "end_time": "2022-04-28T07:14:14.037801",
     "exception": false,
     "start_time": "2022-04-28T07:14:13.998924",
     "status": "completed"
    },
    "tags": []
   },
   "outputs": [],
   "source": [
    "# Lines below will give you a hint or solution code\n",
    "#step_4.a.hint()\n",
    "#step_4.a.solution_plot()"
   ]
  },
  {
   "cell_type": "markdown",
   "id": "8c6fe4e2",
   "metadata": {
    "papermill": {
     "duration": 0.031976,
     "end_time": "2022-04-28T07:14:14.103306",
     "exception": false,
     "start_time": "2022-04-28T07:14:14.071330",
     "status": "completed"
    },
    "tags": []
   },
   "source": [
    "#### Part B\n",
    "\n",
    "According to the plot above, is there a **slight** correlation between `'winpercent'` and `'sugarpercent'`?  What does this tell you about the candy that people tend to prefer?"
   ]
  },
  {
   "cell_type": "code",
   "execution_count": 14,
   "id": "cff43b27",
   "metadata": {
    "execution": {
     "iopub.execute_input": "2022-04-28T07:14:14.169200Z",
     "iopub.status.busy": "2022-04-28T07:14:14.168628Z",
     "iopub.status.idle": "2022-04-28T07:14:14.172313Z",
     "shell.execute_reply": "2022-04-28T07:14:14.171723Z"
    },
    "papermill": {
     "duration": 0.038775,
     "end_time": "2022-04-28T07:14:14.174109",
     "exception": false,
     "start_time": "2022-04-28T07:14:14.135334",
     "status": "completed"
    },
    "tags": []
   },
   "outputs": [],
   "source": [
    "#step_4.b.hint()"
   ]
  },
  {
   "cell_type": "code",
   "execution_count": 15,
   "id": "195a035e",
   "metadata": {
    "execution": {
     "iopub.execute_input": "2022-04-28T07:14:14.242213Z",
     "iopub.status.busy": "2022-04-28T07:14:14.241630Z",
     "iopub.status.idle": "2022-04-28T07:14:14.248982Z",
     "shell.execute_reply": "2022-04-28T07:14:14.248394Z"
    },
    "papermill": {
     "duration": 0.042501,
     "end_time": "2022-04-28T07:14:14.250659",
     "exception": false,
     "start_time": "2022-04-28T07:14:14.208158",
     "status": "completed"
    },
    "tags": []
   },
   "outputs": [
    {
     "data": {
      "application/javascript": [
       "parent.postMessage({\"jupyterEvent\": \"custom.exercise_interaction\", \"data\": {\"interactionType\": 3, \"questionType\": 4, \"questionId\": \"4.2_ThinkBlueReg\", \"learnToolsVersion\": \"0.3.4\", \"valueTowardsCompletion\": 0.0, \"failureMessage\": \"\", \"exceptionClass\": \"\", \"trace\": \"\", \"outcomeType\": 4}}, \"*\")"
      ],
      "text/plain": [
       "<IPython.core.display.Javascript object>"
      ]
     },
     "metadata": {},
     "output_type": "display_data"
    },
    {
     "data": {
      "text/markdown": [
       "<span style=\"color:#33cc99\">Solution:</span> Since the regression line has a slightly positive slope, this tells us that there is a slightly positive correlation between `'winpercent'` and `'sugarpercent'`. Thus, people have a slight preference for candies containing relatively more sugar."
      ],
      "text/plain": [
       "Solution: Since the regression line has a slightly positive slope, this tells us that there is a slightly positive correlation between `'winpercent'` and `'sugarpercent'`. Thus, people have a slight preference for candies containing relatively more sugar."
      ]
     },
     "metadata": {},
     "output_type": "display_data"
    }
   ],
   "source": [
    "# Check your answer (Run this code cell to receive credit!)\n",
    "step_4.b.solution()"
   ]
  },
  {
   "cell_type": "markdown",
   "id": "59e2a182",
   "metadata": {
    "papermill": {
     "duration": 0.033215,
     "end_time": "2022-04-28T07:14:14.317487",
     "exception": false,
     "start_time": "2022-04-28T07:14:14.284272",
     "status": "completed"
    },
    "tags": []
   },
   "source": [
    "## Step 5: Chocolate!\n",
    "\n",
    "In the code cell below, create a scatter plot to show the relationship between `'pricepercent'` (on the horizontal x-axis) and `'winpercent'` (on the vertical y-axis). Use the `'chocolate'` column to color-code the points.  _Don't add any regression lines just yet -- you'll do that in the next step!_"
   ]
  },
  {
   "cell_type": "code",
   "execution_count": 16,
   "id": "0bdccf54",
   "metadata": {
    "execution": {
     "iopub.execute_input": "2022-04-28T07:14:14.386159Z",
     "iopub.status.busy": "2022-04-28T07:14:14.385583Z",
     "iopub.status.idle": "2022-04-28T07:14:14.658310Z",
     "shell.execute_reply": "2022-04-28T07:14:14.657441Z"
    },
    "papermill": {
     "duration": 0.309458,
     "end_time": "2022-04-28T07:14:14.660338",
     "exception": false,
     "start_time": "2022-04-28T07:14:14.350880",
     "status": "completed"
    },
    "tags": []
   },
   "outputs": [
    {
     "data": {
      "application/javascript": [
       "parent.postMessage({\"jupyterEvent\": \"custom.exercise_interaction\", \"data\": {\"outcomeType\": 1, \"valueTowardsCompletion\": 0.3333333333333333, \"interactionType\": 1, \"questionType\": 2, \"questionId\": \"5_ColorScatter\", \"learnToolsVersion\": \"0.3.4\", \"failureMessage\": \"\", \"exceptionClass\": \"\", \"trace\": \"\"}}, \"*\")"
      ],
      "text/plain": [
       "<IPython.core.display.Javascript object>"
      ]
     },
     "metadata": {},
     "output_type": "display_data"
    },
    {
     "data": {
      "text/markdown": [
       "<span style=\"color:#33cc33\">Correct</span>"
      ],
      "text/plain": [
       "Correct"
      ]
     },
     "metadata": {},
     "output_type": "display_data"
    },
    {
     "data": {
      "image/png": "[encoded data removed]",
      "text/plain": [
       "<Figure size 432x288 with 1 Axes>"
      ]
     },
     "metadata": {
      "needs_background": "light"
     },
     "output_type": "display_data"
    }
   ],
   "source": [
    "# Scatter plot showing the relationship between 'pricepercent', 'winpercent', and 'chocolate'\n",
    "sns.scatterplot(x=candy_data['sugarpercent'], y=candy_data['winpercent'], hue=candy_data['chocolate'])# Your code here\n",
    "\n",
    "# Check your answer\n",
    "step_5.check()"
   ]
  },
  {
   "cell_type": "code",
   "execution_count": 17,
   "id": "0fb354fc",
   "metadata": {
    "execution": {
     "iopub.execute_input": "2022-04-28T07:14:14.732181Z",
     "iopub.status.busy": "2022-04-28T07:14:14.731908Z",
     "iopub.status.idle": "2022-04-28T07:14:14.735331Z",
     "shell.execute_reply": "2022-04-28T07:14:14.734497Z"
    },
    "papermill": {
     "duration": 0.041581,
     "end_time": "2022-04-28T07:14:14.737124",
     "exception": false,
     "start_time": "2022-04-28T07:14:14.695543",
     "status": "completed"
    },
    "tags": []
   },
   "outputs": [],
   "source": [
    "# Lines below will give you a hint or solution code\n",
    "#step_5.hint()\n",
    "#step_5.solution_plot()"
   ]
  },
  {
   "cell_type": "markdown",
   "id": "035144b9",
   "metadata": {
    "papermill": {
     "duration": 0.034725,
     "end_time": "2022-04-28T07:14:14.807136",
     "exception": false,
     "start_time": "2022-04-28T07:14:14.772411",
     "status": "completed"
    },
    "tags": []
   },
   "source": [
    "Can you see any interesting patterns in the scatter plot?  We'll investigate this plot further  by adding regression lines in the next step!\n",
    "\n",
    "## Step 6: Investigate chocolate\n",
    "\n",
    "#### Part A\n",
    "\n",
    "Create the same scatter plot you created in **Step 5**, but now with two regression lines, corresponding to (1) chocolate candies and (2) candies without chocolate."
   ]
  },
  {
   "cell_type": "code",
   "execution_count": 18,
   "id": "7b32d2ca",
   "metadata": {
    "execution": {
     "iopub.execute_input": "2022-04-28T07:14:14.878744Z",
     "iopub.status.busy": "2022-04-28T07:14:14.878439Z",
     "iopub.status.idle": "2022-04-28T07:14:15.451875Z",
     "shell.execute_reply": "2022-04-28T07:14:15.451247Z"
    },
    "papermill": {
     "duration": 0.61144,
     "end_time": "2022-04-28T07:14:15.453647",
     "exception": false,
     "start_time": "2022-04-28T07:14:14.842207",
     "status": "completed"
    },
    "tags": []
   },
   "outputs": [
    {
     "data": {
      "application/javascript": [
       "parent.postMessage({\"jupyterEvent\": \"custom.exercise_interaction\", \"data\": {\"outcomeType\": 1, \"valueTowardsCompletion\": 0.3333333333333333, \"interactionType\": 1, \"questionType\": 2, \"questionId\": \"6.1_PlotColorReg\", \"learnToolsVersion\": \"0.3.4\", \"failureMessage\": \"\", \"exceptionClass\": \"\", \"trace\": \"\"}}, \"*\")"
      ],
      "text/plain": [
       "<IPython.core.display.Javascript object>"
      ]
     },
     "metadata": {},
     "output_type": "display_data"
    },
    {
     "data": {
      "text/markdown": [
       "<span style=\"color:#33cc33\">Correct</span>"
      ],
      "text/plain": [
       "Correct"
      ]
     },
     "metadata": {},
     "output_type": "display_data"
    },
    {
     "data": {
      "image/png": "[encoded data removed]",
      "text/plain": [
       "<Figure size 416.375x360 with 1 Axes>"
      ]
     },
     "metadata": {
      "needs_background": "light"
     },
     "output_type": "display_data"
    }
   ],
   "source": [
    "# Color-coded scatter plot w/ regression lines\n",
    "sns.lmplot(x= \"sugarpercent\", y=\"winpercent\", hue= \"chocolate\",data=candy_data) # Your code here\n",
    "\n",
    "# Check your answer\n",
    "step_6.a.check()"
   ]
  },
  {
   "cell_type": "code",
   "execution_count": 19,
   "id": "150b2fa0",
   "metadata": {
    "execution": {
     "iopub.execute_input": "2022-04-28T07:14:15.531736Z",
     "iopub.status.busy": "2022-04-28T07:14:15.531416Z",
     "iopub.status.idle": "2022-04-28T07:14:15.535025Z",
     "shell.execute_reply": "2022-04-28T07:14:15.534206Z"
    },
    "papermill": {
     "duration": 0.044418,
     "end_time": "2022-04-28T07:14:15.536742",
     "exception": false,
     "start_time": "2022-04-28T07:14:15.492324",
     "status": "completed"
    },
    "tags": []
   },
   "outputs": [],
   "source": [
    "# Lines below will give you a hint or solution code\n",
    "#step_6.a.hint()\n",
    "#step_6.a.solution_plot()"
   ]
  },
  {
   "cell_type": "markdown",
   "id": "ba401459",
   "metadata": {
    "papermill": {
     "duration": 0.036737,
     "end_time": "2022-04-28T07:14:15.611486",
     "exception": false,
     "start_time": "2022-04-28T07:14:15.574749",
     "status": "completed"
    },
    "tags": []
   },
   "source": [
    "#### Part B\n",
    "\n",
    "Using the regression lines, what conclusions can you draw about the effects of chocolate and price on candy popularity?"
   ]
  },
  {
   "cell_type": "code",
   "execution_count": 20,
   "id": "a9db8706",
   "metadata": {
    "execution": {
     "iopub.execute_input": "2022-04-28T07:14:15.687233Z",
     "iopub.status.busy": "2022-04-28T07:14:15.686937Z",
     "iopub.status.idle": "2022-04-28T07:14:15.690073Z",
     "shell.execute_reply": "2022-04-28T07:14:15.689322Z"
    },
    "papermill": {
     "duration": 0.042993,
     "end_time": "2022-04-28T07:14:15.691635",
     "exception": false,
     "start_time": "2022-04-28T07:14:15.648642",
     "status": "completed"
    },
    "tags": []
   },
   "outputs": [],
   "source": [
    "#step_6.b.hint()"
   ]
  },
  {
   "cell_type": "code",
   "execution_count": 21,
   "id": "fa4d0fc3",
   "metadata": {
    "execution": {
     "iopub.execute_input": "2022-04-28T07:14:15.767919Z",
     "iopub.status.busy": "2022-04-28T07:14:15.767467Z",
     "iopub.status.idle": "2022-04-28T07:14:15.775151Z",
     "shell.execute_reply": "2022-04-28T07:14:15.774444Z"
    },
    "papermill": {
     "duration": 0.047783,
     "end_time": "2022-04-28T07:14:15.776749",
     "exception": false,
     "start_time": "2022-04-28T07:14:15.728966",
     "status": "completed"
    },
    "tags": []
   },
   "outputs": [
    {
     "data": {
      "application/javascript": [
       "parent.postMessage({\"jupyterEvent\": \"custom.exercise_interaction\", \"data\": {\"interactionType\": 3, \"questionType\": 4, \"questionId\": \"6.2_ThinkColorReg\", \"learnToolsVersion\": \"0.3.4\", \"valueTowardsCompletion\": 0.0, \"failureMessage\": \"\", \"exceptionClass\": \"\", \"trace\": \"\", \"outcomeType\": 4}}, \"*\")"
      ],
      "text/plain": [
       "<IPython.core.display.Javascript object>"
      ]
     },
     "metadata": {},
     "output_type": "display_data"
    },
    {
     "data": {
      "text/markdown": [
       "<span style=\"color:#33cc99\">Solution:</span> We'll begin with the regression line for chocolate candies. Since this line has a slightly positive slope, we can say that more expensive chocolate candies tend to be more popular (than relatively cheaper chocolate candies).  Likewise, since the regression line for candies without chocolate has a negative slope, we can say that if candies don't contain chocolate, they tend to be more popular when they are cheaper.  One important note, however, is that the dataset is quite small -- so we shouldn't invest too much trust in these patterns!  To inspire more confidence in the results, we should add more candies to the dataset."
      ],
      "text/plain": [
       "Solution: We'll begin with the regression line for chocolate candies. Since this line has a slightly positive slope, we can say that more expensive chocolate candies tend to be more popular (than relatively cheaper chocolate candies).  Likewise, since the regression line for candies without chocolate has a negative slope, we can say that if candies don't contain chocolate, they tend to be more popular when they are cheaper.  One important note, however, is that the dataset is quite small -- so we shouldn't invest too much trust in these patterns!  To inspire more confidence in the results, we should add more candies to the dataset."
      ]
     },
     "metadata": {},
     "output_type": "display_data"
    }
   ],
   "source": [
    "# Check your answer (Run this code cell to receive credit!)\n",
    "step_6.b.solution()"
   ]
  },
  {
   "cell_type": "markdown",
   "id": "c6a247e7",
   "metadata": {
    "papermill": {
     "duration": 0.038088,
     "end_time": "2022-04-28T07:14:15.853199",
     "exception": false,
     "start_time": "2022-04-28T07:14:15.815111",
     "status": "completed"
    },
    "tags": []
   },
   "source": [
    "## Step 7: Everybody loves chocolate.\n",
    "\n",
    "#### Part A\n",
    "\n",
    "Create a categorical scatter plot to highlight the relationship between `'chocolate'` and `'winpercent'`.  Put `'chocolate'` on the (horizontal) x-axis, and `'winpercent'` on the (vertical) y-axis."
   ]
  },
  {
   "cell_type": "code",
   "execution_count": 22,
   "id": "4155c2c7",
   "metadata": {
    "execution": {
     "iopub.execute_input": "2022-04-28T07:14:15.932193Z",
     "iopub.status.busy": "2022-04-28T07:14:15.931375Z",
     "iopub.status.idle": "2022-04-28T07:14:16.119224Z",
     "shell.execute_reply": "2022-04-28T07:14:16.118365Z"
    },
    "papermill": {
     "duration": 0.229288,
     "end_time": "2022-04-28T07:14:16.121439",
     "exception": false,
     "start_time": "2022-04-28T07:14:15.892151",
     "status": "completed"
    },
    "tags": []
   },
   "outputs": [
    {
     "data": {
      "application/javascript": [
       "parent.postMessage({\"jupyterEvent\": \"custom.exercise_interaction\", \"data\": {\"outcomeType\": 1, \"valueTowardsCompletion\": 0.3333333333333333, \"interactionType\": 1, \"questionType\": 2, \"questionId\": \"7.1_PlotSwarm\", \"learnToolsVersion\": \"0.3.4\", \"failureMessage\": \"\", \"exceptionClass\": \"\", \"trace\": \"\"}}, \"*\")"
      ],
      "text/plain": [
       "<IPython.core.display.Javascript object>"
      ]
     },
     "metadata": {},
     "output_type": "display_data"
    },
    {
     "data": {
      "text/markdown": [
       "<span style=\"color:#33cc33\">Correct</span>"
      ],
      "text/plain": [
       "Correct"
      ]
     },
     "metadata": {},
     "output_type": "display_data"
    },
    {
     "data": {
      "image/png": "[encoded data removed]",
      "text/plain": [
       "<Figure size 432x288 with 1 Axes>"
      ]
     },
     "metadata": {
      "needs_background": "light"
     },
     "output_type": "display_data"
    }
   ],
   "source": [
    "# Scatter plot showing the relationship between 'chocolate' and 'winpercent'\n",
    "sns.swarmplot(x=candy_data['chocolate'], y=candy_data['winpercent']) # Your code here\n",
    "\n",
    "# Check your answer\n",
    "step_7.a.check()"
   ]
  },
  {
   "cell_type": "code",
   "execution_count": 23,
   "id": "f14dea4f",
   "metadata": {
    "execution": {
     "iopub.execute_input": "2022-04-28T07:14:16.204626Z",
     "iopub.status.busy": "2022-04-28T07:14:16.203884Z",
     "iopub.status.idle": "2022-04-28T07:14:16.206985Z",
     "shell.execute_reply": "2022-04-28T07:14:16.206482Z"
    },
    "papermill": {
     "duration": 0.047148,
     "end_time": "2022-04-28T07:14:16.208708",
     "exception": false,
     "start_time": "2022-04-28T07:14:16.161560",
     "status": "completed"
    },
    "tags": []
   },
   "outputs": [],
   "source": [
    "# Lines below will give you a hint or solution code\n",
    "#step_7.a.hint()\n",
    "#step_7.a.solution_plot()"
   ]
  },
  {
   "cell_type": "markdown",
   "id": "02fceed5",
   "metadata": {
    "papermill": {
     "duration": 0.040063,
     "end_time": "2022-04-28T07:14:16.289768",
     "exception": false,
     "start_time": "2022-04-28T07:14:16.249705",
     "status": "completed"
    },
    "tags": []
   },
   "source": [
    "#### Part B\n",
    "\n",
    "You decide to dedicate a section of your report to the fact that chocolate candies tend to be more popular than candies without chocolate.  Which plot is more appropriate to tell this story: the plot from **Step 6**, or the plot from **Step 7**?"
   ]
  },
  {
   "cell_type": "code",
   "execution_count": 24,
   "id": "3ecb3dc3",
   "metadata": {
    "execution": {
     "iopub.execute_input": "2022-04-28T07:14:16.371725Z",
     "iopub.status.busy": "2022-04-28T07:14:16.371205Z",
     "iopub.status.idle": "2022-04-28T07:14:16.374125Z",
     "shell.execute_reply": "2022-04-28T07:14:16.373614Z"
    },
    "papermill": {
     "duration": 0.045873,
     "end_time": "2022-04-28T07:14:16.375771",
     "exception": false,
     "start_time": "2022-04-28T07:14:16.329898",
     "status": "completed"
    },
    "tags": []
   },
   "outputs": [],
   "source": [
    "#step_7.b.hint()"
   ]
  },
  {
   "cell_type": "code",
   "execution_count": 25,
   "id": "b5e5210d",
   "metadata": {
    "execution": {
     "iopub.execute_input": "2022-04-28T07:14:16.458695Z",
     "iopub.status.busy": "2022-04-28T07:14:16.458185Z",
     "iopub.status.idle": "2022-04-28T07:14:16.464409Z",
     "shell.execute_reply": "2022-04-28T07:14:16.463681Z"
    },
    "papermill": {
     "duration": 0.049536,
     "end_time": "2022-04-28T07:14:16.466159",
     "exception": false,
     "start_time": "2022-04-28T07:14:16.416623",
     "status": "completed"
    },
    "tags": []
   },
   "outputs": [
    {
     "data": {
      "application/javascript": [
       "parent.postMessage({\"jupyterEvent\": \"custom.exercise_interaction\", \"data\": {\"interactionType\": 3, \"questionType\": 4, \"questionId\": \"7.2_ThinkSwarm\", \"learnToolsVersion\": \"0.3.4\", \"valueTowardsCompletion\": 0.0, \"failureMessage\": \"\", \"exceptionClass\": \"\", \"trace\": \"\", \"outcomeType\": 4}}, \"*\")"
      ],
      "text/plain": [
       "<IPython.core.display.Javascript object>"
      ]
     },
     "metadata": {},
     "output_type": "display_data"
    },
    {
     "data": {
      "text/markdown": [
       "<span style=\"color:#33cc99\">Solution:</span> In this case, the categorical scatter plot from **Step 7** is the more appropriate plot. While both plots tell the desired story, the plot from **Step 6** conveys far more information that could distract from the main point."
      ],
      "text/plain": [
       "Solution: In this case, the categorical scatter plot from **Step 7** is the more appropriate plot. While both plots tell the desired story, the plot from **Step 6** conveys far more information that could distract from the main point."
      ]
     },
     "metadata": {},
     "output_type": "display_data"
    }
   ],
   "source": [
    "# Check your answer (Run this code cell to receive credit!)\n",
    "step_7.b.solution()"
   ]
  },
  {
   "cell_type": "markdown",
   "id": "d13aab3e",
   "metadata": {
    "papermill": {
     "duration": 0.040718,
     "end_time": "2022-04-28T07:14:16.548651",
     "exception": false,
     "start_time": "2022-04-28T07:14:16.507933",
     "status": "completed"
    },
    "tags": []
   },
   "source": [
    "## Keep going\n",
    "\n",
    "Explore **[histograms and density plots](https://www.kaggle.com/alexisbcook/distributions)**."
   ]
  },
  {
   "cell_type": "markdown",
   "id": "6e962b01",
   "metadata": {
    "papermill": {
     "duration": 0.040599,
     "end_time": "2022-04-28T07:14:16.630254",
     "exception": false,
     "start_time": "2022-04-28T07:14:16.589655",
     "status": "completed"
    },
    "tags": []
   },
   "source": [
    "---\n",
    "\n",
    "\n",
    "\n",
    "\n",
    "*Have questions or comments? Visit the [course discussion forum](https://www.kaggle.com/learn/data-visualization/discussion) to chat with other learners.*"
   ]
  }
 ],
 "metadata": {
  "kernelspec": {
   "display_name": "Python 3",
   "language": "python",
   "name": "python3"
  },
  "language_info": {
   "codemirror_mode": {
    "name": "ipython",
    "version": 3
   },
   "file_extension": ".py",
   "mimetype": "text/x-python",
   "name": "python",
   "nbconvert_exporter": "python",
   "pygments_lexer": "ipython3",
   "version": "3.7.12"
  },
  "papermill": {
   "default_parameters": {},
   "duration": 14.638842,
   "end_time": "2022-04-28T07:14:17.392474",
   "environment_variables": {},
   "exception": null,
   "input_path": "__notebook__.ipynb",
   "output_path": "__notebook__.ipynb",
   "parameters": {},
   "start_time": "2022-04-28T07:14:02.753632",
   "version": "2.3.4"
  }
 },
 "nbformat": 4,
 "nbformat_minor": 5
}
